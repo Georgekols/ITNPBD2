{
  "cells": [
    {
      "cell_type": "markdown",
      "source": [
        "Import pandas"
      ],
      "metadata": {}
    },
    {
      "cell_type": "code",
      "source": [
        "import pandas as pd"
      ],
      "outputs": [],
      "execution_count": 1,
      "metadata": {
        "collapsed": false,
        "outputHidden": false,
        "inputHidden": false
      }
    },
    {
      "cell_type": "markdown",
      "source": [
        "Import numpy"
      ],
      "metadata": {}
    },
    {
      "cell_type": "code",
      "source": [
        "import numpy as np\n",
        "import seaborn as sbn\n",
        "from datetime import datetime\n",
        "import matplotlib.pyplot as plt"
      ],
      "outputs": [],
      "execution_count": 66,
      "metadata": {
        "collapsed": false,
        "outputHidden": false,
        "inputHidden": false
      }
    },
    {
      "cell_type": "markdown",
      "source": [
        "Import dataset"
      ],
      "metadata": {}
    },
    {
      "cell_type": "code",
      "source": [
        "gens = pd.read_csv(\"/Users/georgekoliopoulos/Desktop/renewable_generators.csv\")"
      ],
      "outputs": [],
      "execution_count": 3,
      "metadata": {
        "collapsed": false,
        "outputHidden": false,
        "inputHidden": false
      }
    },
    {
      "cell_type": "code",
      "source": [
        "gens.head()"
      ],
      "outputs": [
        {
          "output_type": "execute_result",
          "execution_count": 4,
          "data": {
            "text/plain": [
              "   Unnamed: 0          id                           generator_name  country  \\\n",
              "0           0  C00083RAEN                  Drax Biomass Conversion  England   \n",
              "1           1   INVDRX001              DRAX Biomass Conversion CfD  England   \n",
              "2           2  R00021RPEN           London Array Offshore Windfarm  England   \n",
              "3           3  R00080RAEN  Tilbury Dedicated Biomass Power Station  England   \n",
              "4           4  R00032RPEN                                Race Bank  England   \n",
              "\n",
              "     ic_kw         technology subsidy accreditation commissioned    rlf  \\\n",
              "0  1295000  Dedicated biomass      RO    2003-03-01   2013-04-02  79.2%   \n",
              "1   645000  Dedicated biomass     CfD    2016-12-21   2016-12-21  71.2%   \n",
              "2   630000     Off-shore wind      RO    2012-11-04   2012-11-04  40.9%   \n",
              "3  1131000  Dedicated biomass      RO    2002-08-01   1968-01-01  45.4%   \n",
              "4   573300     Off-shore wind      RO    2017-06-08   2017-06-08    NaN   \n",
              "\n",
              "     alf latest_data  latest_mwh_p_a  latest_rocs_p_a  \n",
              "0  68.4%     2018-03       7761720.0        7761720.0  \n",
              "1  73.0%     2018-06       4124530.0              NaN  \n",
              "2  41.3%     2018-04       2278850.0        4231750.0  \n",
              "3  62.4%     2013-08       4100710.0        5353980.0  \n",
              "4    NaN     2018-05       1869200.0        2774550.0  "
            ],
            "text/html": [
              "<div>\n",
              "<style scoped>\n",
              "    .dataframe tbody tr th:only-of-type {\n",
              "        vertical-align: middle;\n",
              "    }\n",
              "\n",
              "    .dataframe tbody tr th {\n",
              "        vertical-align: top;\n",
              "    }\n",
              "\n",
              "    .dataframe thead th {\n",
              "        text-align: right;\n",
              "    }\n",
              "</style>\n",
              "<table border=\"1\" class=\"dataframe\">\n",
              "  <thead>\n",
              "    <tr style=\"text-align: right;\">\n",
              "      <th></th>\n",
              "      <th>Unnamed: 0</th>\n",
              "      <th>id</th>\n",
              "      <th>generator_name</th>\n",
              "      <th>country</th>\n",
              "      <th>ic_kw</th>\n",
              "      <th>technology</th>\n",
              "      <th>subsidy</th>\n",
              "      <th>accreditation</th>\n",
              "      <th>commissioned</th>\n",
              "      <th>rlf</th>\n",
              "      <th>alf</th>\n",
              "      <th>latest_data</th>\n",
              "      <th>latest_mwh_p_a</th>\n",
              "      <th>latest_rocs_p_a</th>\n",
              "    </tr>\n",
              "  </thead>\n",
              "  <tbody>\n",
              "    <tr>\n",
              "      <th>0</th>\n",
              "      <td>0</td>\n",
              "      <td>C00083RAEN</td>\n",
              "      <td>Drax Biomass Conversion</td>\n",
              "      <td>England</td>\n",
              "      <td>1295000</td>\n",
              "      <td>Dedicated biomass</td>\n",
              "      <td>RO</td>\n",
              "      <td>2003-03-01</td>\n",
              "      <td>2013-04-02</td>\n",
              "      <td>79.2%</td>\n",
              "      <td>68.4%</td>\n",
              "      <td>2018-03</td>\n",
              "      <td>7761720.0</td>\n",
              "      <td>7761720.0</td>\n",
              "    </tr>\n",
              "    <tr>\n",
              "      <th>1</th>\n",
              "      <td>1</td>\n",
              "      <td>INVDRX001</td>\n",
              "      <td>DRAX Biomass Conversion CfD</td>\n",
              "      <td>England</td>\n",
              "      <td>645000</td>\n",
              "      <td>Dedicated biomass</td>\n",
              "      <td>CfD</td>\n",
              "      <td>2016-12-21</td>\n",
              "      <td>2016-12-21</td>\n",
              "      <td>71.2%</td>\n",
              "      <td>73.0%</td>\n",
              "      <td>2018-06</td>\n",
              "      <td>4124530.0</td>\n",
              "      <td>NaN</td>\n",
              "    </tr>\n",
              "    <tr>\n",
              "      <th>2</th>\n",
              "      <td>2</td>\n",
              "      <td>R00021RPEN</td>\n",
              "      <td>London Array Offshore Windfarm</td>\n",
              "      <td>England</td>\n",
              "      <td>630000</td>\n",
              "      <td>Off-shore wind</td>\n",
              "      <td>RO</td>\n",
              "      <td>2012-11-04</td>\n",
              "      <td>2012-11-04</td>\n",
              "      <td>40.9%</td>\n",
              "      <td>41.3%</td>\n",
              "      <td>2018-04</td>\n",
              "      <td>2278850.0</td>\n",
              "      <td>4231750.0</td>\n",
              "    </tr>\n",
              "    <tr>\n",
              "      <th>3</th>\n",
              "      <td>3</td>\n",
              "      <td>R00080RAEN</td>\n",
              "      <td>Tilbury Dedicated Biomass Power Station</td>\n",
              "      <td>England</td>\n",
              "      <td>1131000</td>\n",
              "      <td>Dedicated biomass</td>\n",
              "      <td>RO</td>\n",
              "      <td>2002-08-01</td>\n",
              "      <td>1968-01-01</td>\n",
              "      <td>45.4%</td>\n",
              "      <td>62.4%</td>\n",
              "      <td>2013-08</td>\n",
              "      <td>4100710.0</td>\n",
              "      <td>5353980.0</td>\n",
              "    </tr>\n",
              "    <tr>\n",
              "      <th>4</th>\n",
              "      <td>4</td>\n",
              "      <td>R00032RPEN</td>\n",
              "      <td>Race Bank</td>\n",
              "      <td>England</td>\n",
              "      <td>573300</td>\n",
              "      <td>Off-shore wind</td>\n",
              "      <td>RO</td>\n",
              "      <td>2017-06-08</td>\n",
              "      <td>2017-06-08</td>\n",
              "      <td>NaN</td>\n",
              "      <td>NaN</td>\n",
              "      <td>2018-05</td>\n",
              "      <td>1869200.0</td>\n",
              "      <td>2774550.0</td>\n",
              "    </tr>\n",
              "  </tbody>\n",
              "</table>\n",
              "</div>"
            ]
          },
          "metadata": {}
        }
      ],
      "execution_count": 4,
      "metadata": {
        "collapsed": false,
        "outputHidden": false,
        "inputHidden": false
      }
    },
    {
      "cell_type": "markdown",
      "source": [
        "Delete the first column"
      ],
      "metadata": {}
    },
    {
      "cell_type": "code",
      "source": [
        "gens.drop(gens.columns[[0]], 1, inplace=True)"
      ],
      "outputs": [],
      "execution_count": 5,
      "metadata": {
        "collapsed": false,
        "outputHidden": false,
        "inputHidden": false
      }
    },
    {
      "cell_type": "markdown",
      "source": [
        "Checking for missing values"
      ],
      "metadata": {}
    },
    {
      "cell_type": "code",
      "source": [
        "gens.isnull().any()"
      ],
      "outputs": [
        {
          "output_type": "execute_result",
          "execution_count": 6,
          "data": {
            "text/plain": [
              "id                 False\n",
              "generator_name     False\n",
              "country            False\n",
              "ic_kw              False\n",
              "technology         False\n",
              "subsidy            False\n",
              "accreditation       True\n",
              "commissioned        True\n",
              "rlf                 True\n",
              "alf                 True\n",
              "latest_data        False\n",
              "latest_mwh_p_a      True\n",
              "latest_rocs_p_a     True\n",
              "dtype: bool"
            ]
          },
          "metadata": {}
        }
      ],
      "execution_count": 6,
      "metadata": {
        "collapsed": false,
        "outputHidden": false,
        "inputHidden": false
      }
    },
    {
      "cell_type": "markdown",
      "source": [
        "Deleting rows with missing values"
      ],
      "metadata": {}
    },
    {
      "cell_type": "code",
      "source": [
        "gens=gens.dropna()"
      ],
      "outputs": [],
      "execution_count": 7,
      "metadata": {
        "collapsed": false,
        "outputHidden": false,
        "inputHidden": false
      }
    },
    {
      "cell_type": "markdown",
      "source": [
        "Check again for missing values"
      ],
      "metadata": {}
    },
    {
      "cell_type": "code",
      "source": [
        "gens.isnull().any()"
      ],
      "outputs": [
        {
          "output_type": "execute_result",
          "execution_count": 8,
          "data": {
            "text/plain": [
              "id                 False\n",
              "generator_name     False\n",
              "country            False\n",
              "ic_kw              False\n",
              "technology         False\n",
              "subsidy            False\n",
              "accreditation      False\n",
              "commissioned       False\n",
              "rlf                False\n",
              "alf                False\n",
              "latest_data        False\n",
              "latest_mwh_p_a     False\n",
              "latest_rocs_p_a    False\n",
              "dtype: bool"
            ]
          },
          "metadata": {}
        }
      ],
      "execution_count": 8,
      "metadata": {
        "collapsed": false,
        "outputHidden": false,
        "inputHidden": false
      }
    },
    {
      "cell_type": "markdown",
      "source": [
        "Show the unique values of the technology column"
      ],
      "metadata": {}
    },
    {
      "cell_type": "code",
      "source": [
        "gens.technology.unique()"
      ],
      "outputs": [
        {
          "output_type": "execute_result",
          "execution_count": 9,
          "data": {
            "text/plain": [
              "array(['Dedicated biomass', 'Off-shore wind', 'Biomass co-firing',\n",
              "       'On-shore wind', 'Hydro', 'Waste', 'Landfill Gas', 'Sewage Gas',\n",
              "       'Photovoltaic', 'Anaerobic Digestion', 'Standard Gasification',\n",
              "       'Advanced Gasification', 'Tidal Stream', 'Wave Power',\n",
              "       'Enhanced Wave'], dtype=object)"
            ]
          },
          "metadata": {}
        }
      ],
      "execution_count": 9,
      "metadata": {
        "collapsed": false,
        "outputHidden": false,
        "inputHidden": false
      }
    },
    {
      "cell_type": "markdown",
      "source": [
        "Convert Accreditation column to datetime"
      ],
      "metadata": {}
    },
    {
      "cell_type": "code",
      "source": [
        "gens['accreditation'] =  pd.to_datetime(gens['accreditation'], format='%Y-%m-%d')"
      ],
      "outputs": [],
      "execution_count": 18,
      "metadata": {
        "collapsed": false,
        "outputHidden": false,
        "inputHidden": false
      }
    },
    {
      "cell_type": "code",
      "source": [
        "england= gens.query('country==\"England\"')"
      ],
      "outputs": [],
      "execution_count": 19,
      "metadata": {
        "collapsed": false,
        "outputHidden": false,
        "inputHidden": false
      }
    },
    {
      "cell_type": "code",
      "source": [
        "england.head()"
      ],
      "outputs": [
        {
          "output_type": "execute_result",
          "execution_count": 20,
          "data": {
            "text/plain": [
              "           id                           generator_name  country    ic_kw  \\\n",
              "0  C00083RAEN                  Drax Biomass Conversion  England  1295000   \n",
              "2  R00021RPEN           London Array Offshore Windfarm  England   630000   \n",
              "3  R00080RAEN  Tilbury Dedicated Biomass Power Station  England  1131000   \n",
              "5  R00014RPEN                          Greater Gabbard  England   504000   \n",
              "7  R00083RAEN          Drax Power Station (RB) - A,C,E  England   602397   \n",
              "\n",
              "          technology subsidy accreditation commissioned    rlf    alf  \\\n",
              "0  Dedicated biomass      RO    2003-03-01   2013-04-02  79.2%  68.4%   \n",
              "2     Off-shore wind      RO    2012-11-04   2012-11-04  40.9%  41.3%   \n",
              "3  Dedicated biomass      RO    2002-08-01   1968-01-01  45.4%  62.4%   \n",
              "5     Off-shore wind      RO    2011-02-23   2011-02-23  37.9%  43.2%   \n",
              "7  Biomass co-firing      RO    2003-03-01   1974-01-01  76.9%  66.9%   \n",
              "\n",
              "  latest_data  latest_mwh_p_a  latest_rocs_p_a  \n",
              "0     2018-03       7761720.0        7761720.0  \n",
              "2     2018-04       2278850.0        4231750.0  \n",
              "3     2013-08       4100710.0        5353980.0  \n",
              "5     2018-05       1908480.0        3324630.0  \n",
              "7     2016-12       4631690.0        4168690.0  "
            ],
            "text/html": [
              "<div>\n",
              "<style scoped>\n",
              "    .dataframe tbody tr th:only-of-type {\n",
              "        vertical-align: middle;\n",
              "    }\n",
              "\n",
              "    .dataframe tbody tr th {\n",
              "        vertical-align: top;\n",
              "    }\n",
              "\n",
              "    .dataframe thead th {\n",
              "        text-align: right;\n",
              "    }\n",
              "</style>\n",
              "<table border=\"1\" class=\"dataframe\">\n",
              "  <thead>\n",
              "    <tr style=\"text-align: right;\">\n",
              "      <th></th>\n",
              "      <th>id</th>\n",
              "      <th>generator_name</th>\n",
              "      <th>country</th>\n",
              "      <th>ic_kw</th>\n",
              "      <th>technology</th>\n",
              "      <th>subsidy</th>\n",
              "      <th>accreditation</th>\n",
              "      <th>commissioned</th>\n",
              "      <th>rlf</th>\n",
              "      <th>alf</th>\n",
              "      <th>latest_data</th>\n",
              "      <th>latest_mwh_p_a</th>\n",
              "      <th>latest_rocs_p_a</th>\n",
              "    </tr>\n",
              "  </thead>\n",
              "  <tbody>\n",
              "    <tr>\n",
              "      <th>0</th>\n",
              "      <td>C00083RAEN</td>\n",
              "      <td>Drax Biomass Conversion</td>\n",
              "      <td>England</td>\n",
              "      <td>1295000</td>\n",
              "      <td>Dedicated biomass</td>\n",
              "      <td>RO</td>\n",
              "      <td>2003-03-01</td>\n",
              "      <td>2013-04-02</td>\n",
              "      <td>79.2%</td>\n",
              "      <td>68.4%</td>\n",
              "      <td>2018-03</td>\n",
              "      <td>7761720.0</td>\n",
              "      <td>7761720.0</td>\n",
              "    </tr>\n",
              "    <tr>\n",
              "      <th>2</th>\n",
              "      <td>R00021RPEN</td>\n",
              "      <td>London Array Offshore Windfarm</td>\n",
              "      <td>England</td>\n",
              "      <td>630000</td>\n",
              "      <td>Off-shore wind</td>\n",
              "      <td>RO</td>\n",
              "      <td>2012-11-04</td>\n",
              "      <td>2012-11-04</td>\n",
              "      <td>40.9%</td>\n",
              "      <td>41.3%</td>\n",
              "      <td>2018-04</td>\n",
              "      <td>2278850.0</td>\n",
              "      <td>4231750.0</td>\n",
              "    </tr>\n",
              "    <tr>\n",
              "      <th>3</th>\n",
              "      <td>R00080RAEN</td>\n",
              "      <td>Tilbury Dedicated Biomass Power Station</td>\n",
              "      <td>England</td>\n",
              "      <td>1131000</td>\n",
              "      <td>Dedicated biomass</td>\n",
              "      <td>RO</td>\n",
              "      <td>2002-08-01</td>\n",
              "      <td>1968-01-01</td>\n",
              "      <td>45.4%</td>\n",
              "      <td>62.4%</td>\n",
              "      <td>2013-08</td>\n",
              "      <td>4100710.0</td>\n",
              "      <td>5353980.0</td>\n",
              "    </tr>\n",
              "    <tr>\n",
              "      <th>5</th>\n",
              "      <td>R00014RPEN</td>\n",
              "      <td>Greater Gabbard</td>\n",
              "      <td>England</td>\n",
              "      <td>504000</td>\n",
              "      <td>Off-shore wind</td>\n",
              "      <td>RO</td>\n",
              "      <td>2011-02-23</td>\n",
              "      <td>2011-02-23</td>\n",
              "      <td>37.9%</td>\n",
              "      <td>43.2%</td>\n",
              "      <td>2018-05</td>\n",
              "      <td>1908480.0</td>\n",
              "      <td>3324630.0</td>\n",
              "    </tr>\n",
              "    <tr>\n",
              "      <th>7</th>\n",
              "      <td>R00083RAEN</td>\n",
              "      <td>Drax Power Station (RB) - A,C,E</td>\n",
              "      <td>England</td>\n",
              "      <td>602397</td>\n",
              "      <td>Biomass co-firing</td>\n",
              "      <td>RO</td>\n",
              "      <td>2003-03-01</td>\n",
              "      <td>1974-01-01</td>\n",
              "      <td>76.9%</td>\n",
              "      <td>66.9%</td>\n",
              "      <td>2016-12</td>\n",
              "      <td>4631690.0</td>\n",
              "      <td>4168690.0</td>\n",
              "    </tr>\n",
              "  </tbody>\n",
              "</table>\n",
              "</div>"
            ]
          },
          "metadata": {}
        }
      ],
      "execution_count": 20,
      "metadata": {
        "collapsed": false,
        "outputHidden": false,
        "inputHidden": false
      }
    },
    {
      "cell_type": "code",
      "source": [
        "england.technology.value_counts()"
      ],
      "outputs": [
        {
          "output_type": "execute_result",
          "execution_count": 30,
          "data": {
            "text/plain": [
              "Photovoltaic             848\n",
              "Landfill Gas             384\n",
              "On-shore wind            284\n",
              "Sewage Gas               159\n",
              "Dedicated biomass         96\n",
              "Hydro                     71\n",
              "Anaerobic Digestion       47\n",
              "Standard Gasification     29\n",
              "Advanced Gasification     28\n",
              "Off-shore wind            24\n",
              "Biomass co-firing         13\n",
              "Waste                      5\n",
              "Name: technology, dtype: int64"
            ]
          },
          "metadata": {}
        }
      ],
      "execution_count": 30,
      "metadata": {
        "collapsed": false,
        "outputHidden": false,
        "inputHidden": false
      }
    },
    {
      "cell_type": "code",
      "source": [
        "en_gen_by_year= england.groupby(england['accreditation'].dt.year)['technology'].value_counts()"
      ],
      "outputs": [],
      "execution_count": 73,
      "metadata": {
        "collapsed": false,
        "outputHidden": false,
        "inputHidden": false
      }
    },
    {
      "cell_type": "code",
      "source": [
        "fig, ax = plt.subplots(figsize=(20,80))\n",
        "en_gen_by_year.unstack().plot.barh(ax=ax)"
      ],
      "outputs": [
        {
          "output_type": "execute_result",
          "execution_count": 104,
          "data": {
            "text/plain": [
              "<matplotlib.axes._subplots.AxesSubplot at 0x13634f390>"
            ]
          },
          "metadata": {}
        },
        {
          "output_type": "display_data",
          "data": {
            "text/plain": [
              "<Figure size 1440x5760 with 1 Axes>"
            ],
            "image/png": "[encoded data removed]"
          },
          "metadata": {
            "needs_background": "light"
          }
        }
      ],
      "execution_count": 104,
      "metadata": {
        "collapsed": false,
        "outputHidden": false,
        "inputHidden": false
      }
    }
  ],
  "metadata": {
    "kernel_info": {
      "name": "python3"
    },
    "language_info": {
      "name": "python",
      "version": "3.7.0",
      "mimetype": "text/x-python",
      "codemirror_mode": {
        "name": "ipython",
        "version": 3
      },
      "pygments_lexer": "ipython3",
      "nbconvert_exporter": "python",
      "file_extension": ".py"
    },
    "kernelspec": {
      "name": "python3",
      "language": "python",
      "display_name": "Python 3"
    },
    "nteract": {
      "version": "0.12.3"
    }
  },
  "nbformat": 4,
  "nbformat_minor": 4
}